{
 "cells": [
  {
   "cell_type": "code",
   "execution_count": 21,
   "metadata": {
    "collapsed": true,
    "scrolled": false
   },
   "outputs": [],
   "source": [
    "# import librosa\n",
    "import matplotlib.mlab as mlab\n",
    "import matplotlib.pyplot as plt\n",
    "from IPython.display import Audio\n",
    "import collections\n",
    "import numpy as np\n",
    "from microphone import record_audio\n",
    "from scipy.ndimage.filters import maximum_filter\n",
    "from scipy.ndimage.filters import minimum_filter\n",
    "from scipy.ndimage.morphology import generate_binary_structure, binary_erosion \n",
    "from scipy.ndimage.morphology import iterate_structure\n",
    "from collections import defaultdict\n",
    "%matplotlib notebook\n",
    "import librosa\n"
   ]
  },
  {
   "cell_type": "code",
   "execution_count": 22,
   "metadata": {
    "collapsed": true
   },
   "outputs": [],
   "source": [
    "def loadsong(path):\n",
    "    songname, fs = librosa.load(path, sr=44100, mono=True)\n",
    "    spec, freqs, times = mlab.specgram(songname, NFFT = 4096, Fs = fs, window=mlab.window_hanning, noverlap=(4096//2))\n",
    "    return spec, freqs, fs"
   ]
  },
  {
   "cell_type": "code",
   "execution_count": 23,
   "metadata": {
    "collapsed": true
   },
   "outputs": [],
   "source": [
    "\n",
    "S, freqs, fs = loadsong(r\"/Users/ji-macbook15/Desktop/moo/1.mp3\")\n",
    "\n",
    "S2, freqs2, fs2 = loadsong(r\"/Users/ji-macbook15/Desktop/moo/2.mp3\")\n",
    "\n",
    "S3, freqs3, fs3 = loadsong(r\"/Users/ji-macbook15/Desktop/moo/3.mp3\")\n",
    "\n",
    "S4, freqs4, fs4 = loadsong(r\"/Users/ji-macbook15/Desktop/moo/4.mp3\")\n",
    "\n",
    "S5, freqs5, fs5 = loadsong(r\"/Users/ji-macbook15/Desktop/moo/5.mp3\")\n",
    "\n",
    "S6, freqs6, fs6 = loadsong(r\"/Users/ji-macbook15/Desktop/moo/6.mp3\")\n"
   ]
  },
  {
   "cell_type": "code",
   "execution_count": 26,
   "metadata": {
    "collapsed": true
   },
   "outputs": [],
   "source": [
    "def findpeaks(spec):\n",
    "    ys, xs = np.histogram(spec.flatten(), bins=spec.size//2, normed=True)\n",
    "    dx = xs[-1] - xs[-2]\n",
    "    cdf = np.cumsum(ys)*dx  # this gives you the cumulative distribution of amplitudes\n",
    "    cutoff = xs[np.searchsorted(cdf, 0.77)]\n",
    "\n",
    "    foreground = (spec >= cutoff)\n",
    "    \n",
    "    struct = generate_binary_structure(2,1)\n",
    "    neighborhood = iterate_structure(struct, 20)\n",
    "    local = spec == maximum_filter(spec, footprint=neighborhood)\n",
    "    \n",
    "    intersection = local & foreground\n",
    "    bins = np.argwhere(intersection) \n",
    "    return bins"
   ]
  },
  {
   "cell_type": "code",
   "execution_count": 24,
   "metadata": {},
   "outputs": [
    {
     "data": {
      "text/plain": [
       "[]"
      ]
     },
     "execution_count": 24,
     "metadata": {},
     "output_type": "execute_result"
    }
   ],
   "source": [
    "lyst = list(range(10))\n",
    "lyst[99:100]"
   ]
  },
  {
   "cell_type": "code",
   "execution_count": 27,
   "metadata": {},
   "outputs": [],
   "source": [
    "database = collections.defaultdict(list)\n",
    "songnames = []\n",
    "\n",
    "def addtodb(name, artist, bins):\n",
    "    songnames.append(name)\n",
    "    for index, (f1, t1) in enumerate(bins):\n",
    "        \n",
    "        fanout = bins[index+1:index+21]   \n",
    "        \n",
    "        for f2, t2 in fanout:\n",
    "            x = (f1, f2, t2-t1)\n",
    "            database[x].append((name, artist, t1)) # if we have a key for this fp, we add the song,artist, and time at which first peak occurred \n",
    "\n",
    "addtodb(\"what u need\", \"the weeknd\", findpeaks(S2))\n",
    "addtodb(\"im the one\", \"dj khaled ft. justin bieber, quavo, chance the rapper, lil wayne\", findpeaks(S))\n",
    "addtodb(\"in the night\", \"the weeknd\", findpeaks(S3))\n",
    "addtodb(\"work from home\", \"5h\", findpeaks(S4))\n",
    "addtodb(\"night changes\", \"1d\", findpeaks(S5))\n",
    "addtodb(\"blank space\", \"taylor swift\", findpeaks(S6))"
   ]
  },
  {
   "cell_type": "code",
   "execution_count": 64,
   "metadata": {
    "collapsed": true
   },
   "outputs": [],
   "source": [
    "#lol = [(('in the night', 'the weeknd', 3130, 2), 2), (('in the night', 'the weeknd', 339, 2), 1), (('night changes', '1d', 1083, 2), 1), (('in the night', 'the weeknd', 362, 2), 1), (('in the night', 'the weeknd', 2346, 2), 1), (('in the night', 'the weeknd', 85, 2), 1), (('in the night', 'the weeknd', 108, 2), 1), (('in the night', 'the weeknd', 131, 2), 1), (('in the night', 'the weeknd', 154, 2), 1), (('in the night', 'the weeknd', 177, 2), 1), (('in the night', 'the weeknd', 200, 2), 1), (('in the night', 'the weeknd', 454, 2), 1), (('in the night', 'the weeknd', 1423, 2), 1), (('in the night', 'the weeknd', 2023, 2), 1), (('in the night', 'the weeknd', 2046, 2), 1), (('in the night', 'the weeknd', 2069, 2), 1), (('in the night', 'the weeknd', 3107, 2), 1), (('in the night', 'the weeknd', 3361, 2), 1), (('in the night', 'the weeknd', 3453, 2), 1), (('in the night', 'the weeknd', 4445, 2), 1), (('in the night', 'the weeknd', 4745, 2), 1)]\n",
    "\n",
    "\n",
    "def findprob(song):\n",
    "    songcounts = {}\n",
    "    count = 0\n",
    "    probs = \"\"\n",
    "    \n",
    "    for asong in song:\n",
    "        if asong[0][0] in songcounts:\n",
    "            songcounts[asong[0][0]] += asong[1]\n",
    "        else:\n",
    "            songcounts[asong[0][0]] = asong[1]\n",
    "        count += asong[1]\n",
    "        \n",
    "    if count < 10:\n",
    "        return \"can not find any songs\"\n",
    "    \n",
    "    for i in range(len(songnames)):\n",
    "        try:\n",
    "            probs += str(np.round(songcounts[songnames[i]] / count, decimals = 3) * 100)\n",
    "            probs += \"% chance of being \"\n",
    "            probs += songnames[i]\n",
    "            probs += \". \"\n",
    "        except:\n",
    "            pass\n",
    "    return probs\n"
   ]
  },
  {
   "cell_type": "code",
   "execution_count": 65,
   "metadata": {
    "scrolled": true
   },
   "outputs": [],
   "source": [
    "def match_song(db, excerpt): #note to self: excerpt = [(t1,f1),(t2,f2), etc]\n",
    "    templist = [] \n",
    "    \n",
    "    for index, (fe1, te1) in enumerate(excerpt):\n",
    "        fanout = excerpt[index+1:index+21]\n",
    "        \n",
    "        for fe2, te2 in fanout:\n",
    "            x = (fe1, fe2, te2-te1)\n",
    "            \n",
    "            values = db.get(x)\n",
    "            \n",
    "            if values is None:\n",
    "                continue\n",
    "            else:\n",
    "                for avalue in values:\n",
    "                    templist.append((avalue[0], avalue[1], avalue[2] - te1, 2))\n",
    "    \n",
    "    return findprob(collections.Counter(templist).most_common()) \n",
    "\n",
    "def make_excerpt(time):\n",
    "    recording = record_audio(time)\n",
    "    excerpt = np.hstack([np.fromstring(i, np.int16) for i in recording[0]])\n",
    "\n",
    "    excerpt_spec, freqs_spec, times_spec = mlab.specgram(excerpt, NFFT=4096, Fs=fs,\n",
    "                                                      window=mlab.window_hanning,\n",
    "                                                      noverlap=(4096 // 2)) \n",
    "\n",
    "    return findpeaks(excerpt_spec)\n",
    "\n"
   ]
  },
  {
   "cell_type": "code",
   "execution_count": 72,
   "metadata": {},
   "outputs": [
    {
     "name": "stdout",
     "output_type": "stream",
     "text": [
      "No microphone configuration file found, attempting to find default device..\n",
      "Using input device 'Built-in Microphone'\n",
      "Recording ended\n"
     ]
    },
    {
     "data": {
      "text/plain": [
       "'0.3% chance of being in the night. 0.5% chance of being work from home. 99.2% chance of being blank space. '"
      ]
     },
     "execution_count": 72,
     "metadata": {},
     "output_type": "execute_result"
    }
   ],
   "source": [
    "\n",
    "match_song(database, make_excerpt(30))\n"
   ]
  },
  {
   "cell_type": "markdown",
   "metadata": {
    "collapsed": true,
    "scrolled": true
   },
   "source": [
    "\n",
    "    # for notes in excerpt: #look at every tuple (f1,f2,deltaT) within the song excerpt\n",
    "     #   if notes in database: #if such fp is present in database\n",
    "      #      for value in database[notes]: # go thru every value associated with the key\n",
    "       #         print(value[2])\n",
    "        #        print(notes[2])\n",
    "         #       templist.append((value[0], value[1], value[2] - notes[2]))   \n",
    "          #      #we add the song name(value[0]), the artists (value[1]), and the offset in time between when the first \n",
    "           #     #peak appears in the database - first peak appears in the song excerpt\n",
    "            #    \n",
    "             #   #IGNORE: templist.append(tuple(database[notes])) #dont forget to do the more advanced portion\n",
    "    #counts = collections.Counter(templist) \n",
    "\n",
    "    #if (len(counts) > 0): #if we find any matches\n",
    "     #   print(counts.most_common())\n",
    "      #  return counts.most_common()[0][0][0] + \" by \" + counts.most_common()[0][0][1]\n",
    "    #else:"
   ]
  }
 ],
 "metadata": {
  "kernelspec": {
   "display_name": "Python 3",
   "language": "python",
   "name": "python3"
  }
 },
 "nbformat": 4,
 "nbformat_minor": 2
}
