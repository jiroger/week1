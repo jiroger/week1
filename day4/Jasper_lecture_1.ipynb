{
 "cells": [
  {
   "cell_type": "markdown",
   "metadata": {},
   "source": [
    "# Module 1 - Introduction to Raspberry Pi and Jasper\n",
    "\n",
    "In this module we'll study personal assistant technologies in a hands-on manner. We'll run Jasper, a python version of a personal assistant, on self-contained Raspberry Pi hardware and then learn to write our own web services running on a laptop to mimic cloud infrastructure."
   ]
  },
  {
   "cell_type": "markdown",
   "metadata": {},
   "source": [
    "## Skill Demonstration\n",
    "\n",
    "Reddit news reader on Alexa.\n",
    "\n",
    "Another demo:\n",
    "[https://www.youtube.com/watch?v=TKw3SeiIq4U](https://www.youtube.com/watch?v=TKw3SeiIq4U)"
   ]
  },
  {
   "cell_type": "markdown",
   "metadata": {},
   "source": [
    "## Personal assistant interaction\n",
    "\n",
    "![](img/ASK2.jpg)\n",
    "\n",
    "![assistant workflow](img/assistant_workflow.png)\n",
    "\n",
    "We'll implement similar components with our own hardware and software:\n",
    "\n",
    "* Speech-to-text and text-to-speech\n",
    "* Skills that run locally. Later, we'll build our own web services using Flask to run computationally heavy skills.\n",
    "* How to replace simple keyword intent classification with machine learning and NLP methods for better accuracy and flexibility.\n"
   ]
  },
  {
   "cell_type": "markdown",
   "metadata": {},
   "source": [
    "## Raspberry Pi overview\n",
    "\n",
    "![hardware](img/RASPBERRY-PI-3-MODEL-B.png)\n"
   ]
  },
  {
   "cell_type": "markdown",
   "metadata": {},
   "source": [
    "## Jasper overview\n",
    "\n",
    "Link: [http://jasperproject.github.io/](http://jasperproject.github.io/)\n",
    "\n",
    "![jasper](img/jasper-project.png)"
   ]
  },
  {
   "cell_type": "markdown",
   "metadata": {},
   "source": [
    "##  Connect to Raspberry Pi through SSH\n",
    "\n",
    "Make sure the Pi and your computer are connected to the same network. \n",
    "\n",
    "Determine your IP address:\n",
    "\n",
    "```bash\n",
    "pi@raspberrypi:~ $ ifconfig\n",
    "eth0      Link encap:Ethernet  HWaddr b8:27:eb:36:23:2b  \n",
    "          inet6 addr: fe80::3a44:883e:b333:5bf3/64 Scope:Link\n",
    "          UP BROADCAST MULTICAST  MTU:1500  Metric:1\n",
    "          RX packets:0 errors:0 dropped:0 overruns:0 frame:0\n",
    "          TX packets:0 errors:0 dropped:0 overruns:0 carrier:0\n",
    "          collisions:0 txqueuelen:1000 \n",
    "          RX bytes:0 (0.0 B)  TX bytes:0 (0.0 B)\n",
    "\n",
    "lo        Link encap:Local Loopback  \n",
    "          inet addr:127.0.0.1  Mask:255.0.0.0\n",
    "          inet6 addr: ::1/128 Scope:Host\n",
    "          UP LOOPBACK RUNNING  MTU:65536  Metric:1\n",
    "          RX packets:204 errors:0 dropped:0 overruns:0 frame:0\n",
    "          TX packets:204 errors:0 dropped:0 overruns:0 carrier:0\n",
    "          collisions:0 txqueuelen:1 \n",
    "          RX bytes:17184 (16.7 KiB)  TX bytes:17184 (16.7 KiB)\n",
    "\n",
    "wlan0     Link encap:Ethernet  HWaddr b8:27:eb:63:76:7e  \n",
    "          inet addr:192.168.0.100  Bcast:192.168.0.255  Mask:255.255.255.0\n",
    "          inet6 addr: fe80::ee5b:10ea:84d4:a21b/64 Scope:Link\n",
    "          UP BROADCAST RUNNING MULTICAST  MTU:1500  Metric:1\n",
    "          RX packets:79 errors:0 dropped:0 overruns:0 frame:0\n",
    "          TX packets:92 errors:0 dropped:0 overruns:0 carrier:0\n",
    "          collisions:0 txqueuelen:1000 \n",
    "          RX bytes:9674 (9.4 KiB)  TX bytes:15230 (14.8 KiB)\n",
    "```\n",
    "\n",
    "The IP address that we want is under the `wlan0` interface and is labeled `inet addr:192.168.0.100`. Your output will vary from the example based on the IP addressed assigned by the wireless router.\n",
    "\n",
    "SSH using the IP address using following command:\n",
    "\n",
    "```bash\n",
    "ssh pi@192.168.0.100\n",
    "```\n",
    "\n",
    "The username is `pi` and the default password on the provided disk image is `cogworks`.\n",
    "\n",
    "\n",
    "The first time you log in with SSH, you will get this message, which you can accept:\n",
    "\n",
    "```\n",
    "Warning: Permanently added the RSA host key for IP address '<IP_ADDRESS>' to the list of known hosts.\n",
    "```\n",
    "\n",
    "Now we are remotely logged into the Pi and can control it without connecting to a monitor.\n",
    "\n",
    "\n",
    "Note: if on a wireless router at home, you may be able to use the hostname `raspberrypi.local` like so:\n",
    "\n",
    "```bash\n",
    "ssh pi@raspberrypi.local\n",
    "```"
   ]
  },
  {
   "cell_type": "markdown",
   "metadata": {},
   "source": [
    "## Run Jasper\n",
    "\n",
    "* Go to the home directory (`cd ~`) and run the following: `jasper/jasper.py`.\n",
    "\t* Jasper will respond with a greeting with the name configured in your profile.\n",
    "* Say \"jasper\" (or the wake word that you configured).\n",
    "\t* Jasper will beep and listen for a command.\n",
    "* Say \"time\".\n",
    "\t* This will invoke the time-telling skill and speak the current time.\n",
    "\n",
    "Repeat the process and try other skills such as \"weather tomorrow\", \"news\".\n",
    "\n",
    "Jasper initially enters \"passive listening\" where it will wait until it hears the Wake word. After detecting the Wake word, Jasper enters \"active listening\" and waits for a command to invoke a skill.\n"
   ]
  },
  {
   "cell_type": "markdown",
   "metadata": {},
   "source": []
  },
  {
   "cell_type": "markdown",
   "metadata": {},
   "source": [
    "### Anatomy of a Skill\n",
    "\n",
    "Stored in `jasper/client/modules`.\n",
    "\n",
    "Common interface expected by `Brain.query()`:\n",
    "\n",
    "* `WORDS`: list of strings that should trigger this skill\n",
    "* `PRIORITY`: (optional) integer priority value for `Brain.get_modules()` to sort this skill in its checklist\n",
    "* `isValid(text)`: returns True to `Brain` if input is related to this skill.\n",
    "* `handle(text, mic, profile)`: All processing goes here. Can use information in `profile` and `text` and handles any audio input and output with `mic`.\n",
    "\n",
    "![time.py](img/time.py.png)"
   ]
  },
  {
   "cell_type": "markdown",
   "metadata": {},
   "source": [
    "## Using TTS and STT modules\n",
    "\n",
    "```python\n",
    "from client import tts\n",
    "from client import stt\n",
    "from client import jasperpath\n",
    "from client.mic import Mic\n",
    "\n",
    "stt_engine_class = stt.get_engine_by_slug(\"sphinx\")\n",
    "stt_passive_engine_class = stt_engine_class\n",
    "tts_engine_class = tts.get_engine_by_slug(\"google-tts\")\n",
    "\n",
    "mic = Mic(tts_engine_class.get_instance(),\n",
    "           stt_passive_engine_class.get_passive_instance(),\n",
    "           stt_engine_class.get_active_instance())\n",
    "\n",
    "# Speak text\n",
    "mic.say(\"I'm sorry, Hal, I can't do that\")\n",
    "\n",
    "# Transcribe audio (listens 10 seconds for keywords)\n",
    "mic.activeListen()\n",
    "```"
   ]
  },
  {
   "cell_type": "markdown",
   "metadata": {},
   "source": [
    "## Use Jasper in \"local\" mode\n",
    "\n",
    "To bypass the microphone input and speaker output, you can run Jasper like so:\n",
    "\n",
    "```\n",
    "jasper/jasper.py --local\n",
    "```\n",
    "\n",
    "This will allow you to input words by typing and cause Jasper to print the spoken words.\n",
    "\n",
    "\n",
    "## Shutdown the Raspberry Pi\n",
    "\n",
    "\n",
    "Use the following command to shutdown:\n",
    "\n",
    "```\n",
    "sudo shutdown now\n",
    "```\n",
    "\n",
    "Wait for the green light on the Raspberry Pi to stop blinking, and unplug the power. The green light indicates writing operations to the SD card.\n"
   ]
  },
  {
   "cell_type": "markdown",
   "metadata": {},
   "source": [
    "# Build your own Jasper skill\n",
    "\n",
    "This minimally-complex skill causes Jasper to speak a greeting back to you.\n",
    "\n",
    "```python\n",
    "\n",
    "import random\n",
    "import re  # Regular expressions\n",
    "\n",
    "WORDS = [\"HELLO\"]\n",
    "\n",
    "\n",
    "def handle(text, mic, profile):\n",
    "    \"\"\"\n",
    "        Responds to user-input, typically speech text, by saying \"hi\"\n",
    "\n",
    "        Arguments:\n",
    "        text -- user-input, typically transcribed speech\n",
    "        mic -- used to interact with the user (for both input and output)\n",
    "        profile -- contains information related to the user (e.g., name)\n",
    "    \"\"\"\n",
    "    first_name = profile[\"first_name\"]\n",
    "\n",
    "    messages = [\"Hi\",\n",
    "                \"Hello\"\n",
    "\n",
    "    message = random.choice(messages) + \", \" + first_name\n",
    "\n",
    "    mic.say(message)\n",
    "\n",
    "\n",
    "def isValid(text):\n",
    "    \"\"\"\n",
    "        Returns True if the input is \"hi\" or \"hello\"\n",
    "\n",
    "        Arguments:\n",
    "        text -- user-input, typically transcribed speech\n",
    "    \"\"\"\n",
    "    return bool(re.search(r'\\bhello\\b', text, re.IGNORECASE))\n",
    "```"
   ]
  }
 ],
 "metadata": {
  "anaconda-cloud": {},
  "kernelspec": {
   "display_name": "Python [default]",
   "language": "python",
   "name": "python3"
  },
  "language_info": {
   "codemirror_mode": {
    "name": "ipython",
    "version": 3
   },
   "file_extension": ".py",
   "mimetype": "text/x-python",
   "name": "python",
   "nbconvert_exporter": "python",
   "pygments_lexer": "ipython3",
   "version": "3.5.2"
  }
 },
 "nbformat": 4,
 "nbformat_minor": 1
}
