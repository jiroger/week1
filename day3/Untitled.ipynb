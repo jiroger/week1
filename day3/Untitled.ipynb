{
 "cells": [
  {
   "cell_type": "code",
   "execution_count": 35,
   "metadata": {
    "scrolled": false
   },
   "outputs": [],
   "source": [
    "import librosa\n",
    "import matplotlib.mlab as mlab\n",
    "import matplotlib.pyplot as plt\n",
    "from IPython.display import Audio\n",
    "import collections\n",
    "%matplotlib notebook\n"
   ]
  },
  {
   "cell_type": "code",
   "execution_count": 29,
   "metadata": {},
   "outputs": [],
   "source": [
    "samples, fs = librosa.load(r\"/Users/ji-macbook15/Desktop/moo/1.mp3\", sr=44100, mono=True) #song number 1\n",
    "S, freqs, times, im = ax.specgram(samples[::100], NFFT=4096, Fs=fs,\n",
    "                                                      window=mlab.window_hanning,\n",
    "                                                      noverlap=(4096 // 2)) \n"
   ]
  },
  {
   "cell_type": "code",
   "execution_count": 33,
   "metadata": {},
   "outputs": [],
   "source": [
    "def makedb(spec, frequencies, thetimes):\n",
    "    struct = generate_binary_structure(2, 1)\n",
    "    neighborhood = iterate_structure(struct, 20) \n",
    "\n",
    "    ys, xs = np.histogram(S.flatten(), bins=len(freqs)//2, normed=True)\n",
    "    dx = xs[-1] - xs[-2]\n",
    "    cdf = np.cumsum(ys)*dx  # this gives you the cumulative distribution of amplitudes\n",
    "    cutoff = xs[np.searchsorted(cdf, 0.77)]\n",
    "\n",
    "    foreground = (S >= cutoff)\n",
    "    \n",
    "    a = np.where(foreground, spec, 0)\n",
    "    bins = np.argwhere(a)\n",
    "    \n",
    "    database = {}\n",
    "    for i in range(bins.shape[0] - 1):\n",
    "        for j in range(20):\n",
    "            if (i + 1 + j) < bins.shape[0]:\n",
    "                t1 = np.round(times[bins[i + j][1]],2)\n",
    "                f1 = np.round(freqs[bins[i + j][0]],2)\n",
    "                t2 = np.round(times[bins[i + 1 + j][1]], 2)\n",
    "                f2 = np.round(freqs[bins[i + 1 + j][0]], 2)\n",
    "                database[(f1, f2, t2 - t1)] = [1, t1]  \n",
    "    return database\n",
    "    \n",
    "bob = makedb(S, freqs, times)\n"
   ]
  },
  {
   "cell_type": "code",
   "execution_count": 36,
   "metadata": {},
   "outputs": [
    {
     "name": "stdout",
     "output_type": "stream",
     "text": [
      "[(1, 2.3700000000000001)]\n"
     ]
    }
   ],
   "source": [
    "def match_song(database, excerpt): #note to self: excerpt = [(f1,f2,deltaT),]\n",
    "    templist = []\n",
    "    for notes in excerpt:\n",
    "        if (notes in database):\n",
    "            templist.append(tuple(database[notes]))\n",
    "    print(templist)\n",
    "    counts = collections.Counter(templist)\n",
    "    return counts.most_common()[0][0][0]\n",
    "\n",
    "bob = match_song(bob,[(323.0, 323.0, 0.040000000000000036)])"
   ]
  },
  {
   "cell_type": "code",
   "execution_count": null,
   "metadata": {
    "collapsed": true
   },
   "outputs": [],
   "source": []
  }
 ],
 "metadata": {
  "kernelspec": {
   "display_name": "Python 3",
   "language": "python",
   "name": "python3"
  },
  "language_info": {
   "codemirror_mode": {
    "name": "ipython",
    "version": 3
   },
   "file_extension": ".py",
   "mimetype": "text/x-python",
   "name": "python",
   "nbconvert_exporter": "python",
   "pygments_lexer": "ipython3",
   "version": "3.6.1"
  }
 },
 "nbformat": 4,
 "nbformat_minor": 2
}
