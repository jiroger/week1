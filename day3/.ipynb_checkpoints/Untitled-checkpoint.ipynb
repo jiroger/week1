{
 "cells": [
  {
   "cell_type": "code",
   "execution_count": null,
   "metadata": {
    "scrolled": false
   },
   "outputs": [],
   "source": [
    "import librosa\n",
    "import matplotlib.mlab as mlab\n",
    "import matplotlib.pyplot as plt\n",
    "from IPython.display import Audio\n",
    "import collections\n",
    "import numpy as np\n",
    "%matplotlib notebook\n"
   ]
  },
  {
   "cell_type": "code",
   "execution_count": null,
   "metadata": {},
   "outputs": [],
   "source": [
    "fig, ax = plt.subplots()\n",
    "samples, fs = librosa.load(r\"/Users/ji-macbook15/Desktop/moo/1.mp3\", sr=44100, mono=True) #song number 1\n",
    "S, freqs, times, im = ax.specgram(samples[::100], NFFT=4096, Fs=fs,\n",
    "                                                      window=mlab.window_hanning,\n",
    "                                                      noverlap=(4096 // 2)) \n",
    "\n",
    "samples2, fs2 = librosa.load(r\"/Users/ji-macbook15/Desktop/moo/2.mp3\", sr=44100, mono=True) #song number 2\n",
    "S2, freqs2, times2, im2 = ax.specgram(samples2[::100], NFFT=4096, Fs=fs2,\n",
    "                                                      window=mlab.window_hanning,\n",
    "                                                      noverlap=(4096 // 2)) \n",
    "\n",
    "samples3, fs3 = librosa.load(r\"/Users/ji-macbook15/Desktop/moo/2.mp3\", sr=44100, mono=True) #song number 2\n",
    "S3, freqs3, times3, im3 = ax.specgram(samples3[::100], NFFT=4096, Fs=fs3,\n",
    "                                                      window=mlab.window_hanning,\n",
    "                                                      noverlap=(4096 // 2)) "
   ]
  },
  {
   "cell_type": "code",
   "execution_count": null,
   "metadata": {},
   "outputs": [],
   "source": [
    "database = {}\n",
    "\n",
    "def addtodb(name, spec, frequencies, thetimes):\n",
    "    \n",
    "    ys, xs = np.histogram(spec.flatten(), bins=len(freqs)//2, normed=True)\n",
    "    dx = xs[-1] - xs[-2]\n",
    "    cdf = np.cumsum(ys)*dx  # this gives you the cumulative distribution of amplitudes\n",
    "    cutoff = xs[np.searchsorted(cdf, 0.77)]\n",
    "\n",
    "    foreground = (spec >= cutoff)\n",
    "    \n",
    "    a = np.where(foreground, spec, 0)\n",
    "    bins = np.argwhere(a)\n",
    "    \n",
    "    \n",
    "    for i in range(bins.shape[0] - 1):\n",
    "        for j in range(20):\n",
    "            if (i + 1 + j) < bins.shape[0]:\n",
    "                t1 = np.round(thetimes[bins[i + j][1]],2)\n",
    "                f1 = np.round(frequencies[bins[i + j][0]],2)\n",
    "                t2 = np.round(thetimes[bins[i + 1 + j][1]], 2)\n",
    "                f2 = np.round(frequencies[bins[i + 1 + j][0]], 2)\n",
    "                x = (f1, f2, t2 - t1)\n",
    "                if x in database:\n",
    "                    database[x].append((name,t1))\n",
    "                else:\n",
    "                    database[x] = [(name, t1)]  \n",
    "#     return database\n",
    "    \n",
    "addtodb(\"what u need\", S2, freqs2, times2)\n",
    "addtodb(\"im the one\", S, freqs, times)\n",
    "addtodb(\"in the night\", S3, freqs, times3)"
   ]
  },
  {
   "cell_type": "code",
   "execution_count": null,
   "metadata": {},
   "outputs": [],
   "source": [
    "def match_song(db, excerpt): #note to self: excerpt = [(f1,f2,deltaT),(),]\n",
    "    templist = []\n",
    "    for notes in excerpt:\n",
    "        if (notes in database):\n",
    "            templist.append(tuple(database[notes]))\n",
    "    print(templist)\n",
    "    counts = collections.Counter(templist)\n",
    "    return counts.most_common()[0][0][0]\n",
    "\n",
    "match_song(database, [(0,0,0.51)])\n",
    "#(323.0, 323.0, 0.040000000000000036)"
   ]
  },
  {
   "cell_type": "code",
   "execution_count": null,
   "metadata": {
    "collapsed": true
   },
   "outputs": [],
   "source": []
  },
  {
   "cell_type": "code",
   "execution_count": null,
   "metadata": {
    "collapsed": true
   },
   "outputs": [],
   "source": []
  }
 ],
 "metadata": {
  "kernelspec": {
   "display_name": "Python 3",
   "language": "python",
   "name": "python3"
  },
  "language_info": {
   "codemirror_mode": {
    "name": "ipython",
    "version": 3
   },
   "file_extension": ".py",
   "mimetype": "text/x-python",
   "name": "python",
   "nbconvert_exporter": "python",
   "pygments_lexer": "ipython3",
   "version": "3.6.1"
  }
 },
 "nbformat": 4,
 "nbformat_minor": 2
}
