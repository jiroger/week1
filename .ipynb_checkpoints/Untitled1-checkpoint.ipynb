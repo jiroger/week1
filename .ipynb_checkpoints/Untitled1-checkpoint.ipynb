{
 "cells": [
  {
   "cell_type": "code",
   "execution_count": 1,
   "metadata": {},
   "outputs": [],
   "source": [
    "from SongFingerPrinting import SongFingerPrinting as fp\n",
    "import numpy as np"
   ]
  },
  {
   "cell_type": "code",
   "execution_count": 5,
   "metadata": {
    "collapsed": true
   },
   "outputs": [],
   "source": [
    "one = fp()\n",
    "one.addtodb(\"what u need\", \"the weeknd\", one.findpeaks(r\"/Users/ji-macbook15/Desktop/moo/2.mp3\"))\n",
    "one.addtodb(\"im the one\", \"dj khaled ft. justin bieber, quavo, chance the rapper, lil wayne\", one.findpeaks(r\"/Users/ji-macbook15/Desktop/moo/1.mp3\"))\n",
    "one.addtodb(\"in the night\", \"the weeknd\", one.findpeaks(r\"/Users/ji-macbook15/Desktop/moo/3.mp3\"))\n",
    "one.addtodb(\"work from home\", \"5h\", one.findpeaks(r\"/Users/ji-macbook15/Desktop/moo/4.mp3\"))\n",
    "one.addtodb(\"night changes\", \"1d\", one.findpeaks(r\"/Users/ji-macbook15/Desktop/moo/5.mp3\"))\n",
    "one.addtodb(\"blank space\", \"taylor swift\", one.findpeaks(r\"/Users/ji-macbook15/Desktop/moo/6.mp3\"))"
   ]
  },
  {
   "cell_type": "code",
   "execution_count": 6,
   "metadata": {},
   "outputs": [
    {
     "name": "stdout",
     "output_type": "stream",
     "text": [
      "No microphone configuration file found, attempting to find default device..\n",
      "Using input device 'Built-in Microphone'\n",
      "Recording ended\n",
      "what u need is not detected\n",
      "im the one is not detected\n",
      "in the night is not detected\n",
      "work from home is not detected\n",
      "night changes is not detected\n",
      "blank space is not detected\n"
     ]
    }
   ],
   "source": [
    "one.match_song(one.make_excerpt(5))"
   ]
  },
  {
   "cell_type": "code",
   "execution_count": 4,
   "metadata": {},
   "outputs": [
    {
     "data": {
      "text/plain": [
       "True"
      ]
     },
     "execution_count": 4,
     "metadata": {},
     "output_type": "execute_result"
    }
   ],
   "source": [
    "type(np.array(10)) == np.ndarray"
   ]
  },
  {
   "cell_type": "code",
   "execution_count": 2,
   "metadata": {},
   "outputs": [],
   "source": [
    "bob = fp()"
   ]
  },
  {
   "cell_type": "code",
   "execution_count": 3,
   "metadata": {},
   "outputs": [],
   "source": [
    "bob.example_load()"
   ]
  },
  {
   "cell_type": "code",
   "execution_count": 9,
   "metadata": {},
   "outputs": [
    {
     "name": "stdout",
     "output_type": "stream",
     "text": [
      "No microphone configuration file found, attempting to find default device..\n",
      "Using input device 'Built-in Microphone'\n",
      "Recording ended\n",
      "what u need is not detected\n",
      "im the one is not detected\n",
      "in the night is not detected\n",
      "work from home is not detected\n",
      "night changes is not detected\n",
      "blank space is not detected\n"
     ]
    }
   ],
   "source": [
    "bob.match_song(bob.make_excerpt(5))"
   ]
  },
  {
   "cell_type": "code",
   "execution_count": null,
   "metadata": {
    "collapsed": true
   },
   "outputs": [],
   "source": []
  }
 ],
 "metadata": {
  "kernelspec": {
   "display_name": "Python 3",
   "language": "python",
   "name": "python3"
  },
  "language_info": {
   "codemirror_mode": {
    "name": "ipython",
    "version": 3
   },
   "file_extension": ".py",
   "mimetype": "text/x-python",
   "name": "python",
   "nbconvert_exporter": "python",
   "pygments_lexer": "ipython3",
   "version": "3.6.1"
  }
 },
 "nbformat": 4,
 "nbformat_minor": 2
}
