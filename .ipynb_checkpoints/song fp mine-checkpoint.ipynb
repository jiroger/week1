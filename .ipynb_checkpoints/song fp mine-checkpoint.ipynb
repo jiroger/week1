{
 "cells": [
  {
   "cell_type": "code",
   "execution_count": 1,
   "metadata": {
    "collapsed": true,
    "scrolled": false
   },
   "outputs": [],
   "source": [
    "# import librosa\n",
    "import matplotlib.mlab as mlab\n",
    "import matplotlib.pyplot as plt\n",
    "from IPython.display import Audio\n",
    "import collections\n",
    "import numpy as np\n",
    "from microphone import record_audio\n",
    "from scipy.ndimage.filters import maximum_filter\n",
    "from scipy.ndimage.filters import minimum_filter\n",
    "from scipy.ndimage.morphology import generate_binary_structure, binary_erosion \n",
    "from scipy.ndimage.morphology import iterate_structure\n",
    "\n",
    "%matplotlib notebook\n",
    "import librosa\n"
   ]
  },
  {
   "cell_type": "code",
   "execution_count": 2,
   "metadata": {
    "collapsed": true
   },
   "outputs": [],
   "source": [
    "\n",
    "imtheone, fs = librosa.load(r\"/Users/ji-macbook15/Desktop/moo/1.mp3\", sr=44100, mono=True) #song number 1\n",
    "S, freqs, times=mlab.specgram(imtheone, NFFT=4096, Fs=fs,\n",
    "                                                      window=mlab.window_hanning,\n",
    "                                                      noverlap=(4096 // 2)) \n",
    "\n",
    "whatuneed, fs2 = librosa.load(r\"/Users/ji-macbook15/Desktop/moo/2.mp3\", sr=44100, mono=True) #song number 2\n",
    "S2, freqs2, times2=mlab.specgram(whatuneed, NFFT=4096, Fs=fs2,\n",
    "                                                      window=mlab.window_hanning,\n",
    "                                                      noverlap=(4096 // 2)) \n",
    "\n",
    "inthenight, fs3 = librosa.load(r\"/Users/ji-macbook15/Desktop/moo/3.mp3\", sr=44100, mono=True) #song number 3\n",
    "S3, freqs3, times3=mlab.specgram(inthenight, NFFT=4096, Fs=fs3,\n",
    "                                                      window=mlab.window_hanning,\n",
    "                                                      noverlap=(4096 // 2)) "
   ]
  },
  {
   "cell_type": "code",
   "execution_count": 3,
   "metadata": {
    "collapsed": true
   },
   "outputs": [],
   "source": [
    "def findpeaks(spec):\n",
    "    ys, xs = np.histogram(spec.flatten(), bins=spec.size//2, normed=True)\n",
    "    dx = xs[-1] - xs[-2]\n",
    "    cdf = np.cumsum(ys)*dx  # this gives you the cumulative distribution of amplitudes\n",
    "    cutoff = xs[np.searchsorted(cdf, 0.77)]\n",
    "\n",
    "    foreground = (spec >= cutoff)\n",
    "    \n",
    "    struct = generate_binary_structure(2,1)\n",
    "    neighborhood = iterate_structure(struct, 20)\n",
    "    local = spec == maximum_filter(spec, footprint=neighborhood)\n",
    "    \n",
    "    intersection = local & foreground\n",
    "    bins = np.argwhere(intersection) \n",
    "    return bins"
   ]
  },
  {
   "cell_type": "code",
   "execution_count": 13,
   "metadata": {
    "collapsed": true
   },
   "outputs": [],
   "source": [
    "database = {}\n",
    "\n",
    "def addtodb(name, artist, bins):\n",
    "    for index, f1t1 in enumerate(bins):\n",
    "        try:\n",
    "            if (index + 20 < bins.size):  \n",
    "                fanout = bins[index+1:index+21]\n",
    "            else:\n",
    "                fanout = bins[index+1:]\n",
    "            f1, t1 = f1t1\n",
    "            \n",
    "            for f2t2 in fanout:\n",
    "                f2, t2 = f2t2\n",
    "                x = (f1, f2, t2-t1)\n",
    "                if x in database:\n",
    "                    database[x].append((name, artist, t1)) # if we have a key for this fp, we add the song,artist, and time at which first peak occurred\n",
    "                else:\n",
    "                    database[x] = [(name, artist, t1)] #add a new key-value pair             \n",
    "        except:\n",
    "            break\n",
    "    #for i in range(bins.shape[0] - 1): # go thru every tuple pair within the bins\n",
    "     #   for j in range(i, i+20): # we are going to \"fan out\" about 20 tuple pairs from bin i to make sure matches are conincidental\n",
    "      #      if (i + 1 + j) < bins.shape[0]: # makes sure the indices dont go out of bounds\n",
    "       #         t1 = np.round(thetimes[bins[i + j][1]],2) # converts bin[i+j][1] to corresponding time in seconds \n",
    "        #        f1 = np.round(frequencies[bins[i + j][0]],2) # converts bin[i+j][0] to corresponding hz\n",
    "         #       t2 = np.round(thetimes[bins[i + 1 + j][1]], 2) #same as t1\n",
    "          #      f2 = np.round(frequencies[bins[i + 1 + j][0]], 2) #same as t2\n",
    "           #     x = (f1, f2, t2-t1)\n",
    "            #    if x in database:\n",
    "             #       database[x].append((name, artist, t1)) # if we have a key for this fp, we add the song,artist, and time at which first peak occurred\n",
    "              #  else:\n",
    "               #     database[x] = [(name, artist, t1)] #add a new key-value pair \n",
    "    \n",
    "addtodb(\"what u need\", \"the weeknd\", findpeaks(S2))\n",
    "addtodb(\"im the one\", \"dj khaled ft. justin bieber, quavo, chance the rapper, lil wayne\", findpeaks(S))\n",
    "addtodb(\"in the night\", \"the weeknd\", findpeaks(S3))\n",
    "\n"
   ]
  },
  {
   "cell_type": "code",
   "execution_count": 26,
   "metadata": {
    "scrolled": true
   },
   "outputs": [
    {
     "name": "stdout",
     "output_type": "stream",
     "text": [
      "Using input device 'Built-in Microphone'\n",
      "Recording ended\n"
     ]
    },
    {
     "ename": "IndexError",
     "evalue": "list index out of range",
     "output_type": "error",
     "traceback": [
      "\u001b[0;31m---------------------------------------------------------------------------\u001b[0m",
      "\u001b[0;31mIndexError\u001b[0m                                Traceback (most recent call last)",
      "\u001b[0;32m<ipython-input-26-62942d6b0f93>\u001b[0m in \u001b[0;36m<module>\u001b[0;34m()\u001b[0m\n\u001b[1;32m     58\u001b[0m \u001b[0;34m\u001b[0m\u001b[0m\n\u001b[1;32m     59\u001b[0m \u001b[0;34m\u001b[0m\u001b[0m\n\u001b[0;32m---> 60\u001b[0;31m \u001b[0mmatch_song\u001b[0m\u001b[0;34m(\u001b[0m\u001b[0mdatabase\u001b[0m\u001b[0;34m,\u001b[0m \u001b[0mmake_excerpt\u001b[0m\u001b[0;34m(\u001b[0m\u001b[0;36m5\u001b[0m\u001b[0;34m)\u001b[0m\u001b[0;34m)\u001b[0m\u001b[0;34m\u001b[0m\u001b[0m\n\u001b[0m\u001b[1;32m     61\u001b[0m \u001b[0;34m\u001b[0m\u001b[0m\n\u001b[1;32m     62\u001b[0m \u001b[0;34m\u001b[0m\u001b[0m\n",
      "\u001b[0;32m<ipython-input-26-62942d6b0f93>\u001b[0m in \u001b[0;36mmatch_song\u001b[0;34m(db, excerpt)\u001b[0m\n\u001b[1;32m     22\u001b[0m         \u001b[0;32mexcept\u001b[0m\u001b[0;34m:\u001b[0m\u001b[0;34m\u001b[0m\u001b[0m\n\u001b[1;32m     23\u001b[0m             \u001b[0;32mbreak\u001b[0m\u001b[0;34m\u001b[0m\u001b[0m\n\u001b[0;32m---> 24\u001b[0;31m     \u001b[0;32mreturn\u001b[0m \u001b[0mstr\u001b[0m\u001b[0;34m(\u001b[0m\u001b[0mcollections\u001b[0m\u001b[0;34m.\u001b[0m\u001b[0mCounter\u001b[0m\u001b[0;34m(\u001b[0m\u001b[0mtemplist\u001b[0m\u001b[0;34m)\u001b[0m\u001b[0;34m.\u001b[0m\u001b[0mmost_common\u001b[0m\u001b[0;34m(\u001b[0m\u001b[0;34m)\u001b[0m\u001b[0;34m[\u001b[0m\u001b[0;36m0\u001b[0m\u001b[0;34m]\u001b[0m\u001b[0;34m[\u001b[0m\u001b[0;36m0\u001b[0m\u001b[0;34m]\u001b[0m\u001b[0;34m[\u001b[0m\u001b[0;36m0\u001b[0m\u001b[0;34m]\u001b[0m\u001b[0;34m)\u001b[0m \u001b[0;34m+\u001b[0m \u001b[0;34m\" by \"\u001b[0m \u001b[0;34m+\u001b[0m \u001b[0mstr\u001b[0m\u001b[0;34m(\u001b[0m\u001b[0mcollections\u001b[0m\u001b[0;34m.\u001b[0m\u001b[0mCounter\u001b[0m\u001b[0;34m(\u001b[0m\u001b[0mtemplist\u001b[0m\u001b[0;34m)\u001b[0m\u001b[0;34m.\u001b[0m\u001b[0mmost_common\u001b[0m\u001b[0;34m(\u001b[0m\u001b[0;34m)\u001b[0m\u001b[0;34m[\u001b[0m\u001b[0;36m0\u001b[0m\u001b[0;34m]\u001b[0m\u001b[0;34m[\u001b[0m\u001b[0;36m0\u001b[0m\u001b[0;34m]\u001b[0m\u001b[0;34m[\u001b[0m\u001b[0;36m1\u001b[0m\u001b[0;34m]\u001b[0m\u001b[0;34m)\u001b[0m\u001b[0;34m\u001b[0m\u001b[0m\n\u001b[0m\u001b[1;32m     25\u001b[0m \u001b[0;34m\u001b[0m\u001b[0m\n\u001b[1;32m     26\u001b[0m     \u001b[0;31m# for notes in excerpt: #look at every tuple (f1,f2,deltaT) within the song excerpt\u001b[0m\u001b[0;34m\u001b[0m\u001b[0;34m\u001b[0m\u001b[0m\n",
      "\u001b[0;31mIndexError\u001b[0m: list index out of range"
     ]
    }
   ],
   "source": [
    "def match_song(db, excerpt): #note to self: excerpt = [(t1,f1),(t2,f2), etc]\n",
    "    templist = [] \n",
    "    \n",
    "    for index, fe1te1 in enumerate(excerpt):\n",
    "        try:\n",
    "\n",
    "            if (index + 20 < excerpt.size):  \n",
    "\n",
    "                fanout = excerpt[index+1:index+21]\n",
    "            else:\n",
    "                fanout = excerpt[index+1:]\n",
    "            fe1, te1 = fe1te1\n",
    "            \n",
    "            for fe2te2 in fanout:\n",
    "                \n",
    "                fe2, te2 = fe2te2\n",
    "                x = (fe1, fe2, te2-te1)\n",
    "    \n",
    "                if x in db:\n",
    "                    for values in db[x]:\n",
    "                        templist.append((values[0], values[1], values[2] - te1, 2))\n",
    "        except:\n",
    "            break\n",
    "    return str(collections.Counter(templist).most_common()[0][0][0]) + \" by \" + str(collections.Counter(templist).most_common()[0][0][1])\n",
    "    \n",
    "    # for notes in excerpt: #look at every tuple (f1,f2,deltaT) within the song excerpt\n",
    "     #   if notes in database: #if such fp is present in database\n",
    "      #      for value in database[notes]: # go thru every value associated with the key\n",
    "       #         print(value[2])\n",
    "        #        print(notes[2])\n",
    "         #       templist.append((value[0], value[1], value[2] - notes[2]))   \n",
    "          #      #we add the song name(value[0]), the artists (value[1]), and the offset in time between when the first \n",
    "           #     #peak appears in the database - first peak appears in the song excerpt\n",
    "            #    \n",
    "             #   #IGNORE: templist.append(tuple(database[notes])) #dont forget to do the more advanced portion\n",
    "    #counts = collections.Counter(templist) \n",
    "\n",
    "    #if (len(counts) > 0): #if we find any matches\n",
    "     #   print(counts.most_common())\n",
    "      #  return counts.most_common()[0][0][0] + \" by \" + counts.most_common()[0][0][1]\n",
    "    #else:\n",
    "     #   return \"could not find the song\" #if we cannot find any matches\n",
    "    \n",
    "########################\n",
    "def make_excerpt(time):\n",
    "    recording = record_audio(time)\n",
    "    excerpt = np.hstack([np.fromstring(i, np.int16) for i in recording[0]])\n",
    "\n",
    "    excerpt_spec, freqs_spec, times_spec = mlab.specgram(excerpt, NFFT=4096, Fs=fs,\n",
    "                                                      window=mlab.window_hanning,\n",
    "                                                      noverlap=(4096 // 2)) \n",
    "\n",
    "    return findpeaks(excerpt_spec)\n",
    "#match_song(database, findpeaks(S2))\n",
    "\n",
    "\n",
    "#print(templizt)\n",
    "\n",
    "\n",
    "match_song(database, make_excerpt(5))\n",
    "\n",
    "\n",
    "#(323.0, 323.0, 0.040000000000000036)"
   ]
  },
  {
   "cell_type": "code",
   "execution_count": 6,
   "metadata": {
    "scrolled": true
   },
   "outputs": [
    {
     "ename": "NameError",
     "evalue": "name 'ax' is not defined",
     "output_type": "error",
     "traceback": [
      "\u001b[0;31m---------------------------------------------------------------------------\u001b[0m",
      "\u001b[0;31mNameError\u001b[0m                                 Traceback (most recent call last)",
      "\u001b[0;32m<ipython-input-6-e32b8b748dc6>\u001b[0m in \u001b[0;36m<module>\u001b[0;34m()\u001b[0m\n\u001b[1;32m      1\u001b[0m \u001b[0;34m\u001b[0m\u001b[0m\n\u001b[1;32m      2\u001b[0m \u001b[0minthenight5\u001b[0m\u001b[0;34m,\u001b[0m \u001b[0mf5s\u001b[0m \u001b[0;34m=\u001b[0m \u001b[0mlibrosa\u001b[0m\u001b[0;34m.\u001b[0m\u001b[0mload\u001b[0m\u001b[0;34m(\u001b[0m\u001b[0;34mr\"/Users/ji-macbook15/Desktop/moo/3.mp3\"\u001b[0m\u001b[0;34m,\u001b[0m \u001b[0msr\u001b[0m\u001b[0;34m=\u001b[0m\u001b[0;36m44100\u001b[0m\u001b[0;34m,\u001b[0m \u001b[0mmono\u001b[0m\u001b[0;34m=\u001b[0m\u001b[0;32mTrue\u001b[0m\u001b[0;34m)\u001b[0m \u001b[0;31m#song number 3\u001b[0m\u001b[0;34m\u001b[0m\u001b[0m\n\u001b[0;32m----> 3\u001b[0;31m S5, freqs5, times5, im5 = ax.specgram(inthenight5[:1000000], NFFT=4096, Fs=f5s,\n\u001b[0m\u001b[1;32m      4\u001b[0m                                                       \u001b[0mwindow\u001b[0m\u001b[0;34m=\u001b[0m\u001b[0mmlab\u001b[0m\u001b[0;34m.\u001b[0m\u001b[0mwindow_hanning\u001b[0m\u001b[0;34m,\u001b[0m\u001b[0;34m\u001b[0m\u001b[0m\n\u001b[1;32m      5\u001b[0m                                                       noverlap=(4096 // 2)) \n",
      "\u001b[0;31mNameError\u001b[0m: name 'ax' is not defined"
     ]
    }
   ],
   "source": [
    "\n",
    "inthenight5, f5s = librosa.load(r\"/Users/ji-macbook15/Desktop/moo/3.mp3\", sr=44100, mono=True) #song number 3\n",
    "S5, freqs5, times5, im5 = ax.specgram(inthenight5[:1000000], NFFT=4096, Fs=f5s,\n",
    "                                                      window=mlab.window_hanning,\n",
    "                                                      noverlap=(4096 // 2)) \n",
    "ys, xs = np.histogram(S5.flatten(), bins=len(freqs)//2, normed=True)\n",
    "dx = xs[-1] - xs[-2]\n",
    "cdf = np.cumsum(ys)*dx  # this gives you the cumulative distribution of amplitudes\n",
    "cutoff = xs[np.searchsorted(cdf, 0.77)]\n",
    "\n",
    "foreground1 = (S5 >= cutoff)\n",
    "\n",
    "a2 = np.where(foreground1, S5, 0)\n",
    "bins2 = np.argwhere(a2) \n",
    "\n",
    "templizt2 = []\n",
    "for i in range(bins2.shape[0] - 1): # go thru every tuple pair within the bins\n",
    "    for j in range(i, i+20): # we are going to \"fan out\" about 20 tuple pairs from bin i to make sure matches are conincidental\n",
    "        if (i + 1 + j) < bins2.shape[0]: # makes sure the indices dont go out of bounds\n",
    "            t1 = np.round(times5[bins2[i + j][1]],2) # converts bin[i+j][1] to corresponding time in seconds \n",
    "            f1 = np.round(freqs5[bins2[i + j][0]],2) # converts bin[i+j][0] to corresponding hz\n",
    "            t2 = np.round(times5[bins2[i + 1 + j][1]], 2) #same as t1\n",
    "            f2 = np.round(freqs5[bins2[i + 1 + j][0]], 2) #same as t2\n",
    "            templizt2.append((f1, f2, t2 - t1))\n",
    "#print(templizt)\n",
    "match_song(database, templizt2)"
   ]
  },
  {
   "cell_type": "code",
   "execution_count": null,
   "metadata": {
    "collapsed": true
   },
   "outputs": [],
   "source": []
  }
 ],
 "metadata": {
  "kernelspec": {
   "display_name": "Python 3",
   "language": "python",
   "name": "python3"
  },
  "language_info": {
   "codemirror_mode": {
    "name": "ipython",
    "version": 3
   },
   "file_extension": ".py",
   "mimetype": "text/x-python",
   "name": "python",
   "nbconvert_exporter": "python",
   "pygments_lexer": "ipython3",
   "version": "3.6.1"
  }
 },
 "nbformat": 4,
 "nbformat_minor": 2
}
