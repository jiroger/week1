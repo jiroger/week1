{
 "cells": [
  {
   "cell_type": "code",
   "execution_count": 1,
   "metadata": {
    "scrolled": false
   },
   "outputs": [],
   "source": [
    "# import librosa\n",
    "import matplotlib.mlab as mlab\n",
    "import matplotlib.pyplot as plt\n",
    "from IPython.display import Audio\n",
    "import collections\n",
    "import numpy as np\n",
    "from microphone import record_audio\n",
    "from scipy.ndimage.filters import maximum_filter\n",
    "from scipy.ndimage.filters import minimum_filter\n",
    "from scipy.ndimage.morphology import generate_binary_structure, binary_erosion \n",
    "from scipy.ndimage.morphology import iterate_structure\n",
    "\n",
    "%matplotlib notebook\n",
    "import librosa\n"
   ]
  },
  {
   "cell_type": "code",
   "execution_count": 2,
   "metadata": {
    "collapsed": true
   },
   "outputs": [],
   "source": [
    "\n",
    "imtheone, fs = librosa.load(r\"/Users/ji-macbook15/Desktop/moo/1.mp3\", sr=44100, mono=True) #song number 1\n",
    "S, freqs, times=mlab.specgram(imtheone, NFFT=4096, Fs=fs,\n",
    "                                                      window=mlab.window_hanning,\n",
    "                                                      noverlap=(4096 // 2)) \n",
    "\n",
    "whatuneed, fs2 = librosa.load(r\"/Users/ji-macbook15/Desktop/moo/2.mp3\", sr=44100, mono=True) #song number 2\n",
    "S2, freqs2, times2=mlab.specgram(whatuneed, NFFT=4096, Fs=fs2,\n",
    "                                                      window=mlab.window_hanning,\n",
    "                                                      noverlap=(4096 // 2)) \n",
    "\n",
    "inthenight, fs3 = librosa.load(r\"/Users/ji-macbook15/Desktop/moo/3.mp3\", sr=44100, mono=True) #song number 3\n",
    "S3, freqs3, times3=mlab.specgram(inthenight, NFFT=4096, Fs=fs3,\n",
    "                                                      window=mlab.window_hanning,\n",
    "                                                      noverlap=(4096 // 2)) \n",
    "workfromhome, fs4 = librosa.load(r\"/Users/ji-macbook15/Desktop/moo/4.mp3\", sr=44100, mono=True) #song number 4\n",
    "S4, freqs4, times4=mlab.specgram(workfromhome, NFFT=4096, Fs=fs3,\n",
    "                                                      window=mlab.window_hanning,\n",
    "                                                      noverlap=(4096 // 2)) \n",
    "\n",
    "nightchanges, fs5 = librosa.load(r\"/Users/ji-macbook15/Desktop/moo/5.mp3\", sr=44100, mono=True) #song number 5\n",
    "S5, freqs5, times5=mlab.specgram(nightchanges, NFFT=4096, Fs=fs3,\n",
    "                                                      window=mlab.window_hanning,\n",
    "                                                      noverlap=(4096 // 2)) "
   ]
  },
  {
   "cell_type": "code",
   "execution_count": 3,
   "metadata": {
    "collapsed": true
   },
   "outputs": [],
   "source": [
    "def findpeaks(spec):\n",
    "    ys, xs = np.histogram(spec.flatten(), bins=spec.size//2, normed=True)\n",
    "    dx = xs[-1] - xs[-2]\n",
    "    cdf = np.cumsum(ys)*dx  # this gives you the cumulative distribution of amplitudes\n",
    "    cutoff = xs[np.searchsorted(cdf, 0.77)]\n",
    "\n",
    "    foreground = (spec >= cutoff)\n",
    "    \n",
    "    struct = generate_binary_structure(2,1)\n",
    "    neighborhood = iterate_structure(struct, 20)\n",
    "    local = spec == maximum_filter(spec, footprint=neighborhood)\n",
    "    \n",
    "    intersection = local & foreground\n",
    "    bins = np.argwhere(intersection) \n",
    "    return bins"
   ]
  },
  {
   "cell_type": "code",
   "execution_count": 4,
   "metadata": {
    "collapsed": true
   },
   "outputs": [],
   "source": [
    "database = {}\n",
    "songnames = []\n",
    "\n",
    "def addtodb(name, artist, bins):\n",
    "    songnames.append(name)\n",
    "    for index, f1t1 in enumerate(bins):\n",
    "        try:\n",
    "            if (index + 20 < bins.size):  \n",
    "                fanout = bins[index+1:index+21]\n",
    "            else:\n",
    "                fanout = bins[index+1:]\n",
    "            f1, t1 = f1t1\n",
    "            \n",
    "            for f2t2 in fanout:\n",
    "                f2, t2 = f2t2\n",
    "                x = (f1, f2, t2-t1)\n",
    "                if x in database:\n",
    "                    database[x].append((name, artist, t1)) # if we have a key for this fp, we add the song,artist, and time at which first peak occurred\n",
    "                else:\n",
    "                    database[x] = [(name, artist, t1)] #add a new key-value pair             \n",
    "        except:\n",
    "            break\n",
    "    #for i in range(bins.shape[0] - 1): # go thru every tuple pair within the bins\n",
    "     #   for j in range(i, i+20): # we are going to \"fan out\" about 20 tuple pairs from bin i to make sure matches are conincidental\n",
    "      #      if (i + 1 + j) < bins.shape[0]: # makes sure the indices dont go out of bounds\n",
    "       #         t1 = np.round(thetimes[bins[i + j][1]],2) # converts bin[i+j][1] to corresponding time in seconds \n",
    "        #        f1 = np.round(frequencies[bins[i + j][0]],2) # converts bin[i+j][0] to corresponding hz\n",
    "         #       t2 = np.round(thetimes[bins[i + 1 + j][1]], 2) #same as t1\n",
    "          #      f2 = np.round(frequencies[bins[i + 1 + j][0]], 2) #same as t2\n",
    "           #     x = (f1, f2, t2-t1)\n",
    "            #    if x in database:\n",
    "             #       database[x].append((name, artist, t1)) # if we have a key for this fp, we add the song,artist, and time at which first peak occurred\n",
    "              #  else:\n",
    "               #     database[x] = [(name, artist, t1)] #add a new key-value pair \n",
    "    \n",
    "addtodb(\"what u need\", \"the weeknd\", findpeaks(S2))\n",
    "addtodb(\"im the one\", \"dj khaled ft. justin bieber, quavo, chance the rapper, lil wayne\", findpeaks(S))\n",
    "addtodb(\"in the night\", \"the weeknd\", findpeaks(S3))\n",
    "addtodb(\"work from home\", \"5h\", findpeaks(S4))\n",
    "addtodb(\"night changes\", \"1d\", findpeaks(S5))"
   ]
  },
  {
   "cell_type": "code",
   "execution_count": 10,
   "metadata": {
    "collapsed": true
   },
   "outputs": [],
   "source": [
    "#lol = [(('in the night', 'the weeknd', 3130, 2), 2), (('in the night', 'the weeknd', 339, 2), 1), (('night changes', '1d', 1083, 2), 1), (('in the night', 'the weeknd', 362, 2), 1), (('in the night', 'the weeknd', 2346, 2), 1), (('in the night', 'the weeknd', 85, 2), 1), (('in the night', 'the weeknd', 108, 2), 1), (('in the night', 'the weeknd', 131, 2), 1), (('in the night', 'the weeknd', 154, 2), 1), (('in the night', 'the weeknd', 177, 2), 1), (('in the night', 'the weeknd', 200, 2), 1), (('in the night', 'the weeknd', 454, 2), 1), (('in the night', 'the weeknd', 1423, 2), 1), (('in the night', 'the weeknd', 2023, 2), 1), (('in the night', 'the weeknd', 2046, 2), 1), (('in the night', 'the weeknd', 2069, 2), 1), (('in the night', 'the weeknd', 3107, 2), 1), (('in the night', 'the weeknd', 3361, 2), 1), (('in the night', 'the weeknd', 3453, 2), 1), (('in the night', 'the weeknd', 4445, 2), 1), (('in the night', 'the weeknd', 4745, 2), 1)]\n",
    "\n",
    "\n",
    "def findprob(song):\n",
    "    songcounts = {}\n",
    "    count = 0\n",
    "    for asong in song:\n",
    "        if asong[0][0] in songcounts:\n",
    "            songcounts[asong[0][0]] += asong[1]\n",
    "        else:\n",
    "            songcounts[asong[0][0]] = asong[1]\n",
    "        count+= asong[1]\n",
    "    \n",
    "    for i in range(len(songnames)):\n",
    "        try:\n",
    "            print(np.round(songcounts[songnames[i]] / count, decimals = 3), \"chance of being\", songnames[i])\n",
    "        except:\n",
    "            print(\"fuck\")\n"
   ]
  },
  {
   "cell_type": "code",
   "execution_count": 11,
   "metadata": {
    "collapsed": true,
    "scrolled": true
   },
   "outputs": [],
   "source": [
    "def match_song(db, excerpt): #note to self: excerpt = [(t1,f1),(t2,f2), etc]\n",
    "    templist = [] \n",
    "    \n",
    "    for index, fe1te1 in enumerate(excerpt):\n",
    "        try:\n",
    "\n",
    "            if (index + 20 < excerpt.size):  \n",
    "\n",
    "                fanout = excerpt[index+1:index+21]\n",
    "            else:\n",
    "                fanout = excerpt[index+1:]\n",
    "            fe1, te1 = fe1te1\n",
    "            \n",
    "            for fe2te2 in fanout:\n",
    "                \n",
    "                fe2, te2 = fe2te2\n",
    "                x = (fe1, fe2, te2-te1)\n",
    "    \n",
    "                if x in db:\n",
    "                    for values in db[x]:\n",
    "                        templist.append((values[0], values[1], values[2] - te1, 2))\n",
    "        except:\n",
    "            break\n",
    "    \n",
    "    \n",
    "    return findprob(collections.Counter(templist).most_common()) \n",
    "\n",
    "def make_excerpt(time):\n",
    "    recording = record_audio(time)\n",
    "    excerpt = np.hstack([np.fromstring(i, np.int16) for i in recording[0]])\n",
    "\n",
    "    excerpt_spec, freqs_spec, times_spec = mlab.specgram(excerpt, NFFT=4096, Fs=fs,\n",
    "                                                      window=mlab.window_hanning,\n",
    "                                                      noverlap=(4096 // 2)) \n",
    "\n",
    "    return findpeaks(excerpt_spec)\n",
    "\n"
   ]
  },
  {
   "cell_type": "code",
   "execution_count": 15,
   "metadata": {},
   "outputs": [
    {
     "name": "stdout",
     "output_type": "stream",
     "text": [
      "No microphone configuration file found, attempting to find default device..\n",
      "Using input device 'Built-in Microphone'\n",
      "Recording ended\n",
      "fuck\n",
      "fuck\n",
      "fuck\n",
      "0.667 chance of being work from home\n",
      "0.333 chance of being night changes\n"
     ]
    }
   ],
   "source": [
    "\n",
    "match_song(database, make_excerpt(5))\n"
   ]
  },
  {
   "cell_type": "code",
   "execution_count": null,
   "metadata": {
    "collapsed": true,
    "scrolled": true
   },
   "outputs": [],
   "source": [
    "    \n",
    "    # for notes in excerpt: #look at every tuple (f1,f2,deltaT) within the song excerpt\n",
    "     #   if notes in database: #if such fp is present in database\n",
    "      #      for value in database[notes]: # go thru every value associated with the key\n",
    "       #         print(value[2])\n",
    "        #        print(notes[2])\n",
    "         #       templist.append((value[0], value[1], value[2] - notes[2]))   \n",
    "          #      #we add the song name(value[0]), the artists (value[1]), and the offset in time between when the first \n",
    "           #     #peak appears in the database - first peak appears in the song excerpt\n",
    "            #    \n",
    "             #   #IGNORE: templist.append(tuple(database[notes])) #dont forget to do the more advanced portion\n",
    "    #counts = collections.Counter(templist) \n",
    "\n",
    "    #if (len(counts) > 0): #if we find any matches\n",
    "     #   print(counts.most_common())\n",
    "      #  return counts.most_common()[0][0][0] + \" by \" + counts.most_common()[0][0][1]\n",
    "    #else:"
   ]
  },
  {
   "cell_type": "code",
   "execution_count": null,
   "metadata": {},
   "outputs": [],
   "source": []
  },
  {
   "cell_type": "code",
   "execution_count": null,
   "metadata": {},
   "outputs": [],
   "source": [
    "\n",
    "#for i in range(len(songnames)):\n",
    "#    try:\n",
    "#        print(lolz[0][songnames[i]] / lolz[-1])\n",
    "#    except:\n",
    "#        print(\"fuck\")"
   ]
  },
  {
   "cell_type": "code",
   "execution_count": null,
   "metadata": {
    "collapsed": true
   },
   "outputs": [],
   "source": []
  }
 ],
 "metadata": {
  "kernelspec": {
   "display_name": "Python 3",
   "language": "python",
   "name": "python3"
  },
  "language_info": {
   "codemirror_mode": {
    "name": "ipython",
    "version": 3
   },
   "file_extension": ".py",
   "mimetype": "text/x-python",
   "name": "python",
   "nbconvert_exporter": "python",
   "pygments_lexer": "ipython3",
   "version": "3.6.1"
  }
 },
 "nbformat": 4,
 "nbformat_minor": 2
}
