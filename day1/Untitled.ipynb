{
 "cells": [
  {
   "cell_type": "code",
   "execution_count": 10,
   "metadata": {},
   "outputs": [],
   "source": [
    "import numpy as np\n",
    "from test_convert_kernel import test_convert_kernel"
   ]
  },
  {
   "cell_type": "code",
   "execution_count": 7,
   "metadata": {},
   "outputs": [],
   "source": [
    "def keras(kernel, order):\n",
    "    temp = np.copy(kernel)\n",
    "    if (order == \"th\"):\n",
    "        if (kernel.ndim == 4):\n",
    "            return temp[...,::-1,::-1]\n",
    "        else:\n",
    "            return temp[...,::-1,::-1,::-1]\n",
    "    else:\n",
    "        if (kernel.ndim == 4):\n",
    "            return temp[::-1,::-1,...]\n",
    "        else:\n",
    "            return temp[::-1,::-1,::-1, ...]"
   ]
  },
  {
   "cell_type": "code",
   "execution_count": 11,
   "metadata": {},
   "outputs": [
    {
     "name": "stdout",
     "output_type": "stream",
     "text": [
      "kenel-mode: tf; dimensionality: 4D: passed\n",
      "kenel-mode: th; dimensionality: 4D: passed\n",
      "kenel-mode: tf; dimensionality: 5D: passed\n",
      "kenel-mode: th; dimensionality: 5D: passed\n"
     ]
    }
   ],
   "source": [
    "test_convert_kernel(keras)"
   ]
  },
  {
   "cell_type": "code",
   "execution_count": null,
   "metadata": {
    "collapsed": true
   },
   "outputs": [],
   "source": []
  }
 ],
 "metadata": {
  "kernelspec": {
   "display_name": "Python 3",
   "language": "python",
   "name": "python3"
  },
  "language_info": {
   "codemirror_mode": {
    "name": "ipython",
    "version": 3
   },
   "file_extension": ".py",
   "mimetype": "text/x-python",
   "name": "python",
   "nbconvert_exporter": "python",
   "pygments_lexer": "ipython3",
   "version": "3.6.1"
  }
 },
 "nbformat": 4,
 "nbformat_minor": 2
}
